{
 "cells": [
  {
   "cell_type": "code",
   "execution_count": null,
   "id": "e6102f68-f0d9-4a5c-a76e-d6c9ace62093",
   "metadata": {},
   "outputs": [],
   "source": [
    "# William Ng\n",
    "# EDA Assignment with Dataset"
   ]
  }
 ],
 "metadata": {
  "kernelspec": {
   "display_name": "ds460",
   "language": "python",
   "name": "ds460"
  },
  "language_info": {
   "codemirror_mode": {
    "name": "ipython",
    "version": 3
   },
   "file_extension": ".py",
   "mimetype": "text/x-python",
   "name": "python",
   "nbconvert_exporter": "python",
   "pygments_lexer": "ipython3",
   "version": "3.13.0"
  }
 },
 "nbformat": 4,
 "nbformat_minor": 5
}
